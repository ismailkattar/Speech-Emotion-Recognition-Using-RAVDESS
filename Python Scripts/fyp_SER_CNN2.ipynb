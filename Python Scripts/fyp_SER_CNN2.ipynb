{
  "cells": [
    {
      "cell_type": "code",
      "execution_count": null,
      "metadata": {
        "colab": {
          "background_save": true
        },
        "id": "JS82pVG1a5t1"
      },
      "outputs": [],
      "source": [
        "\n",
        "# IMPORTANT: RUN THIS CELL IN ORDER TO IMPORT YOUR KAGGLE DATA SOURCES\n",
        "# TO THE CORRECT LOCATION (/kaggle/input) IN YOUR NOTEBOOK,\n",
        "# THEN FEEL FREE TO DELETE THIS CELL.\n",
        "# NOTE: THIS NOTEBOOK ENVIRONMENT DIFFERS FROM KAGGLE'S PYTHON\n",
        "# ENVIRONMENT SO THERE MAY BE MISSING LIBRARIES USED BY YOUR\n",
        "# NOTEBOOK.\n",
        "\n",
        "import os\n",
        "import sys\n",
        "from tempfile import NamedTemporaryFile\n",
        "from urllib.request import urlopen\n",
        "from urllib.parse import unquote, urlparse\n",
        "from urllib.error import HTTPError\n",
        "from zipfile import ZipFile\n",
        "import tarfile\n",
        "import shutil\n",
        "\n",
        "CHUNK_SIZE = 40960\n",
        "DATA_SOURCE_MAPPING = 'ravdess-emotional-speech-audio:https%3A%2F%2Fstorage.googleapis.com%2Fkaggle-data-sets%2F107620%2F256618%2Fbundle%2Farchive.zip%3FX-Goog-Algorithm%3DGOOG4-RSA-SHA256%26X-Goog-Credential%3Dgcp-kaggle-com%2540kaggle-161607.iam.gserviceaccount.com%252F20240828%252Fauto%252Fstorage%252Fgoog4_request%26X-Goog-Date%3D20240828T143736Z%26X-Goog-Expires%3D259200%26X-Goog-SignedHeaders%3Dhost%26X-Goog-Signature%3Da229149f0d72fe6f8594032b8ed6a47eb4d107998bd09c109cbda316883ccc5fe28ebf9b8bef4f5695358a4886785b83a305dcf6499e69e3691ed9e9c9afb5129bd73f889cccaa88697ace09aacd9ebbce557c62e954f692963e0ecc9d447fd41a1b8f673164bd54280641fdcc2a27349dd31a05b81c588787fcc0eb658821a5b1dbbb96b728dd46c933c41802ce662e69ba5d0e6a8033847c75d0f43f34bc6f2ec101c777a2010004406b0377aee2e516b50bfa89aba3e61253d278f46e5061562af7dc9425bff7d7f8b800eba9db7dee9a4da0250e5c9b245ded75325434a9609bd1daacf22d72cbb5fc2179d5464c76b8b57cc06d5c151fb3d804bee8c994,toronto-emotional-speech-set-tess:https%3A%2F%2Fstorage.googleapis.com%2Fkaggle-data-sets%2F316368%2F639622%2Fbundle%2Farchive.zip%3FX-Goog-Algorithm%3DGOOG4-RSA-SHA256%26X-Goog-Credential%3Dgcp-kaggle-com%2540kaggle-161607.iam.gserviceaccount.com%252F20240828%252Fauto%252Fstorage%252Fgoog4_request%26X-Goog-Date%3D20240828T143736Z%26X-Goog-Expires%3D259200%26X-Goog-SignedHeaders%3Dhost%26X-Goog-Signature%3Dbdb5b2b5e57ff9f6a6bb50b0bec5b82aed50599d481bf4b6d52946438785dfc447efe347c06ac05a4bcfaa06a02273674f5bd7af7174b8de00ac94efe708e710a494490c0586956e0e21a3c3eae4e8854deec5a825849fbfe8e958dcafaea683c248a0fd6834f993203d67a5689e29efc6f638cd5b3d7d1e891f3b974906abfdc110c71ec4e93e27265f62f4468194b9c52ff96f5413a642d9691aa3f581c39cb6881e831187f072cdf2e51ad88c6ed91d9af759a53fa31764e258e9f3a9962460090768c916f1696e6c077b3dc4be78b3756f39d81308f32f01d92066d52144d5b144c65e83f2ccbe819f92236997822eab9f53a35b74a03fb5b366d6117397,cremad:https%3A%2F%2Fstorage.googleapis.com%2Fkaggle-data-sets%2F325566%2F653195%2Fbundle%2Farchive.zip%3FX-Goog-Algorithm%3DGOOG4-RSA-SHA256%26X-Goog-Credential%3Dgcp-kaggle-com%2540kaggle-161607.iam.gserviceaccount.com%252F20240828%252Fauto%252Fstorage%252Fgoog4_request%26X-Goog-Date%3D20240828T143736Z%26X-Goog-Expires%3D259200%26X-Goog-SignedHeaders%3Dhost%26X-Goog-Signature%3D7d371f04406a439dec72fb820db597d2c0118684491d4dfcabc29ba7b6d9610569bec3ecaaa01062e6c18cc6b120b69deb20b31b1f3ac75e21f37166f71a5ca7ecb4c6052f9499efa313999c642b4a9c1c2d95a1d8073c807e54bdda91512ac3517b8fd29e98873a6a560fd7b3c71a8d92d0c84a7bd73350d80c1d71a2bf2195dc41000a9d8d52f91a2d06dd0811261c20eca18ae8c8201170d9ec900e4b8f90a6394ee2dd4d593e99ca19b413238c5b1dfc62600c564921b0bb83a5dd10770bda9d820ced51aaf3ca76caa459af7ac6b6dadaa0fe1bff69c953e6264d9aa7c5c8ca6c2d49a9207223e1b388df3ba79b43c953e9337608b57ac44a868548d8c5,surrey-audiovisual-expressed-emotion-savee:https%3A%2F%2Fstorage.googleapis.com%2Fkaggle-data-sets%2F338555%2F671851%2Fbundle%2Farchive.zip%3FX-Goog-Algorithm%3DGOOG4-RSA-SHA256%26X-Goog-Credential%3Dgcp-kaggle-com%2540kaggle-161607.iam.gserviceaccount.com%252F20240828%252Fauto%252Fstorage%252Fgoog4_request%26X-Goog-Date%3D20240828T143736Z%26X-Goog-Expires%3D259200%26X-Goog-SignedHeaders%3Dhost%26X-Goog-Signature%3D86ec339f34b9159c9f7e8eeb357d6cba5992fa2deee283fee1b1e95ca154b828327b6effb77f647927b3350a58f927fcea8d5c97cb3f78ddc3b456b1a539dbacc6d1d2b14a496512785925f80bd9a60a7a5f757b2d3ec080527ae6a4b2d3daa36f21c87fb27bb142657c7b289f38d26546e4fbd6f7115aba7c7815144313072fe5a614c3d8857f6aa4c8cecf1e3372051842f915ed8fed64425c587c2f1559c2ea19cb017041e355116df8895393c13c2cd8f4d896b6b4645a6e06401894056d376b73da2507fbe4f4cce3d0ce71b623fb5b65a9cbccc1755ce128c1ba4d6df6ecdcc2d8c860ee9b7676d75516401e68ca664181ba2fc2450bbb14d20b47f857,speech-signal-features:https%3A%2F%2Fstorage.googleapis.com%2Fkaggle-data-sets%2F3468263%2F6060815%2Fbundle%2Farchive.zip%3FX-Goog-Algorithm%3DGOOG4-RSA-SHA256%26X-Goog-Credential%3Dgcp-kaggle-com%2540kaggle-161607.iam.gserviceaccount.com%252F20240828%252Fauto%252Fstorage%252Fgoog4_request%26X-Goog-Date%3D20240828T143736Z%26X-Goog-Expires%3D259200%26X-Goog-SignedHeaders%3Dhost%26X-Goog-Signature%3D0eab14adcf1d735494a712ae79f0f40258d1f92e86756bd3b49fecc02ce16190813888d312e9ab8cb0c60a243f821dedcffbfd330947ae1472d9e005faf7383e34758637fe82c48b509f078cf52be89555052760b567229c3bd3a7ceb53f7c62f5b4e4fa5042bee9cd465e683d3b9b6163914d7493fdc843d90aded9a38350dbbc618a45f9b23e4c2fff7ff1fada5cc9ed6e145f1f99fb473606922224b356655e4a45ff33b8e9564584519a9af50462fb681d650d164314d871e1d14201c22d0f3775a63c951a54443417a69f58a725d66e65472b4208c84bbdd730c1b36bec3c04c7d7a40f77d376d4716ae456ea9ccdf38b1722896500562ec212b3582bad,recordedaudios:https%3A%2F%2Fstorage.googleapis.com%2Fkaggle-data-sets%2F5226079%2F8711545%2Fbundle%2Farchive.zip%3FX-Goog-Algorithm%3DGOOG4-RSA-SHA256%26X-Goog-Credential%3Dgcp-kaggle-com%2540kaggle-161607.iam.gserviceaccount.com%252F20240828%252Fauto%252Fstorage%252Fgoog4_request%26X-Goog-Date%3D20240828T143736Z%26X-Goog-Expires%3D259200%26X-Goog-SignedHeaders%3Dhost%26X-Goog-Signature%3D044eee63eff33015978384bd3a10b1c90eb4d2fc8ae8007fe280de269056bd3ae047eeb205b33d74547ccb4a4d0af2d886687759f6ebfaf9063a8be2166ba2c35aeab782c4c9d6484a262367e8c335c4267ed7674b42073b03e2c0be0a37f89579ef11edfc7015bca5a454ee706bf3769c80dd14fd4333e7ba4b93f66f79c5d6b712f012325442f61988d2535e87a4ef86c7711dd3c180725a8fd001a2cc525d3b773e47ab9d4d0c730f37bc73937d43e2e89dc8090b3d527296f0fbb09c38123791d5ceefd602bab869c67a1eaca89c6a94c9408bded95046218fc6b253505185d10ee5c7165ab3e19c1192cb84644a670106080fec1728ccb90bc0f95a5bc3'\n",
        "\n",
        "KAGGLE_INPUT_PATH='/kaggle/input'\n",
        "KAGGLE_WORKING_PATH='/kaggle/working'\n",
        "KAGGLE_SYMLINK='kaggle'\n",
        "\n",
        "!umount /kaggle/input/ 2> /dev/null\n",
        "shutil.rmtree('/kaggle/input', ignore_errors=True)\n",
        "os.makedirs(KAGGLE_INPUT_PATH, 0o777, exist_ok=True)\n",
        "os.makedirs(KAGGLE_WORKING_PATH, 0o777, exist_ok=True)\n",
        "\n",
        "try:\n",
        "  os.symlink(KAGGLE_INPUT_PATH, os.path.join(\"..\", 'input'), target_is_directory=True)\n",
        "except FileExistsError:\n",
        "  pass\n",
        "try:\n",
        "  os.symlink(KAGGLE_WORKING_PATH, os.path.join(\"..\", 'working'), target_is_directory=True)\n",
        "except FileExistsError:\n",
        "  pass\n",
        "\n",
        "for data_source_mapping in DATA_SOURCE_MAPPING.split(','):\n",
        "    directory, download_url_encoded = data_source_mapping.split(':')\n",
        "    download_url = unquote(download_url_encoded)\n",
        "    filename = urlparse(download_url).path\n",
        "    destination_path = os.path.join(KAGGLE_INPUT_PATH, directory)\n",
        "    try:\n",
        "        with urlopen(download_url) as fileres, NamedTemporaryFile() as tfile:\n",
        "            total_length = fileres.headers['content-length']\n",
        "            print(f'Downloading {directory}, {total_length} bytes compressed')\n",
        "            dl = 0\n",
        "            data = fileres.read(CHUNK_SIZE)\n",
        "            while len(data) > 0:\n",
        "                dl += len(data)\n",
        "                tfile.write(data)\n",
        "                done = int(50 * dl / int(total_length))\n",
        "                sys.stdout.write(f\"\\r[{'=' * done}{' ' * (50-done)}] {dl} bytes downloaded\")\n",
        "                sys.stdout.flush()\n",
        "                data = fileres.read(CHUNK_SIZE)\n",
        "            if filename.endswith('.zip'):\n",
        "              with ZipFile(tfile) as zfile:\n",
        "                zfile.extractall(destination_path)\n",
        "            else:\n",
        "              with tarfile.open(tfile.name) as tarfile:\n",
        "                tarfile.extractall(destination_path)\n",
        "            print(f'\\nDownloaded and uncompressed: {directory}')\n",
        "    except HTTPError as e:\n",
        "        print(f'Failed to load (likely expired) {download_url} to path {destination_path}')\n",
        "        continue\n",
        "    except OSError as e:\n",
        "        print(f'Failed to load {download_url} to path {destination_path}')\n",
        "        continue\n",
        "\n",
        "print('Data source import complete.')\n"
      ]
    },
    {
      "cell_type": "code",
      "execution_count": null,
      "metadata": {
        "id": "JjXvSxw7a5t4"
      },
      "outputs": [],
      "source": [
        "\n",
        "#IMPORT THE LIBRARIES\n",
        "import pandas as pd\n",
        "import numpy as np\n",
        "\n",
        "import os\n",
        "import sys\n",
        "\n",
        "# librosa is a Python library for analyzing audio and music. It can be used to extract the data from the audio files we will see it later.\n",
        "import librosa\n",
        "import librosa.display\n",
        "import seaborn as sns\n",
        "import matplotlib.pyplot as plt\n",
        "\n",
        "from sklearn.preprocessing import StandardScaler, OneHotEncoder\n",
        "from sklearn.metrics import confusion_matrix, classification_report\n",
        "from sklearn.model_selection import train_test_split\n",
        "\n",
        "# to play the audio files\n",
        "import IPython.display as ipd\n",
        "from IPython.display import Audio\n",
        "import keras\n",
        "from keras.preprocessing import sequence\n",
        "from keras.models import Sequential\n",
        "from keras.layers import Dense, Embedding\n",
        "from keras.layers import LSTM,BatchNormalization , GRU\n",
        "from keras.preprocessing.text import Tokenizer\n",
        "from keras.preprocessing.sequence import pad_sequences\n",
        "from tensorflow.keras.utils import to_categorical\n",
        "from keras.layers import Input, Flatten, Dropout, Activation\n",
        "from keras.layers import Conv1D, MaxPooling1D, AveragePooling1D\n",
        "from keras.models import Model\n",
        "from keras.callbacks import ModelCheckpoint\n",
        "from tensorflow.keras.optimizers import SGD\n",
        "\n",
        "\n",
        "\n",
        "import warnings\n",
        "if not sys.warnoptions:\n",
        "    warnings.simplefilter(\"ignore\")\n",
        "warnings.filterwarnings(\"ignore\", category=DeprecationWarning)\n",
        "import tensorflow as tf\n",
        "print (\"Done\")"
      ]
    },
    {
      "cell_type": "code",
      "execution_count": null,
      "metadata": {
        "id": "S7Nx4luxa5t4"
      },
      "outputs": [],
      "source": [
        "!apt-get update\n",
        "!apt-get install -y libsndfile1"
      ]
    },
    {
      "cell_type": "markdown",
      "metadata": {
        "id": "Iojer1Vta5t4"
      },
      "source": [
        "# Importing Data"
      ]
    },
    {
      "cell_type": "markdown",
      "metadata": {
        "id": "mOL9fPq-a5t5"
      },
      "source": [
        "                                              Ravdess Dataframe\n",
        "Here is the filename identifiers as per the official RAVDESS website:\n",
        "\n",
        "* Modality (01 = full-AV, 02 = video-only, 03 = audio-only).\n",
        "* Vocal channel (01 = speech, 02 = song).\n",
        "* Emotion (01 = neutral, 02 = calm, 03 = happy, 04 = sad, 05 = angry, 06 = fearful, 07 = disgust, 08 = surprised).\n",
        "* Emotional intensity (01 = normal, 02 = strong). NOTE: There is no strong intensity for the 'neutral' emotion.\n",
        "* Statement (01 = \"Kids are talking by the door\", 02 = \"Dogs are sitting by the door\").\n",
        "* Repetition (01 = 1st repetition, 02 = 2nd repetition).\n",
        "* Actor (01 to 24. Odd numbered actors are male, even numbered actors are female).\n",
        "\n",
        "So, here's an example of an audio filename. 02-01-06-01-02-01-12.mp4 This means the meta data for the audio file is:\n",
        "\n",
        "* Video-only (02)\n",
        "* Speech (01)\n",
        "* Fearful (06)\n",
        "* Normal intensity (01)\n",
        "* Statement \"dogs\" (02)\n",
        "* 1st Repetition (01)\n",
        "* 12th Actor (12) - Female (as the actor ID number is even)"
      ]
    },
    {
      "cell_type": "code",
      "execution_count": null,
      "metadata": {
        "id": "ztaTbOQxa5t5"
      },
      "outputs": [],
      "source": [
        "#preparing data set\n",
        "\n",
        "ravdess = \"/kaggle/input/ravdess-emotional-speech-audio/audio_speech_actors_01-24/\"\n",
        "ravdess_directory_list = os.listdir(ravdess)\n",
        "print(ravdess_directory_list)"
      ]
    },
    {
      "cell_type": "markdown",
      "metadata": {
        "id": "lGDgrvPga5t6"
      },
      "source": [
        "# Preprocessing"
      ]
    },
    {
      "cell_type": "markdown",
      "metadata": {
        "id": "2oLubeqma5t6"
      },
      "source": [
        "**Ravdees**"
      ]
    },
    {
      "cell_type": "code",
      "execution_count": null,
      "metadata": {
        "id": "qxjOiUJGa5t6"
      },
      "outputs": [],
      "source": [
        "file_emotion = []\n",
        "file_path = []\n",
        "for i in ravdess_directory_list:\n",
        "    # as their are 24 different actors in our previous directory we need to extract files for each actor.\n",
        "    actor = os.listdir(ravdess + i)\n",
        "    for f in actor:\n",
        "        part = f.split('.')[0].split('-')\n",
        "    # third part in each file represents the emotion associated to that file.\n",
        "        file_emotion.append(int(part[2]))\n",
        "        file_path.append(ravdess + i + '/' + f)\n"
      ]
    },
    {
      "cell_type": "code",
      "execution_count": null,
      "metadata": {
        "id": "HC61saB9a5t6"
      },
      "outputs": [],
      "source": [
        "print(actor[0])\n",
        "print(part[0])\n",
        "print(file_path[0])\n",
        "print(int(part[2]))\n",
        "print(f)"
      ]
    },
    {
      "cell_type": "code",
      "execution_count": null,
      "metadata": {
        "id": "cyTfH-W9a5t6"
      },
      "outputs": [],
      "source": [
        "# dataframe for emotion of files\n",
        "emotion_df = pd.DataFrame(file_emotion, columns=['Emotions'])\n",
        "# dataframe for path of files.\n",
        "path_df = pd.DataFrame(file_path, columns=['Path'])\n",
        "ravdess_df = pd.concat([emotion_df, path_df], axis=1)\n",
        "# changing integers to actual emotions.\n",
        "ravdess_df.Emotions.replace({1:'neutral', 2:'neutral', 3:'happy', 4:'sad', 5:'angry', 6:'fear', 7:'disgust',\n",
        "                             8:'surprise'},\n",
        "                            inplace=True)\n",
        "print(ravdess_df.head())\n",
        "print(\"______________________________________________\")\n",
        "print(ravdess_df.tail())\n",
        "print(\"_______________________________________________\")\n",
        "print(ravdess_df.Emotions.value_counts())\n",
        "\n"
      ]
    },
    {
      "cell_type": "markdown",
      "metadata": {
        "id": "vV6R8aBya5t7"
      },
      "source": [
        "**Integration**"
      ]
    },
    {
      "cell_type": "code",
      "execution_count": null,
      "metadata": {
        "id": "qVUf_GvTa5t7"
      },
      "outputs": [],
      "source": [
        "# creating Dataframe using all the 4 dataframes we created so far.\n",
        "data_path = pd.concat([ravdess_df], axis = 0)\n",
        "data_path.to_csv(\"data_path.csv\",index=False)\n",
        "data_path.head()"
      ]
    },
    {
      "cell_type": "code",
      "execution_count": null,
      "metadata": {
        "id": "Q40Isbbxa5t7"
      },
      "outputs": [],
      "source": [
        "print(data_path.Emotions.value_counts())\n"
      ]
    },
    {
      "cell_type": "markdown",
      "metadata": {
        "id": "1NvgV1b7a5t7"
      },
      "source": [
        ">*                           Data Visualisation and Exploration"
      ]
    },
    {
      "cell_type": "code",
      "execution_count": null,
      "metadata": {
        "id": "tvXMDP3Ha5t7",
        "scrolled": true
      },
      "outputs": [],
      "source": [
        "import matplotlib.pyplot as plt\n",
        "import seaborn as sns\n",
        "\n",
        "plt.title('Count of Emotions', size=16)\n",
        "sns.countplot(data_path.Emotions)\n",
        "plt.ylabel('Count', size=12)\n",
        "plt.xlabel('Emotions', size=12)\n",
        "sns.despine(top=True, right=True, left=False, bottom=False)\n",
        "plt.show()"
      ]
    },
    {
      "cell_type": "code",
      "execution_count": null,
      "metadata": {
        "id": "mPSzchOMa5t7"
      },
      "outputs": [],
      "source": [
        "data,sr = librosa.load(file_path[0])\n",
        "sr"
      ]
    },
    {
      "cell_type": "code",
      "execution_count": null,
      "metadata": {
        "id": "O4wsf8gMa5t7"
      },
      "outputs": [],
      "source": [
        "ipd.Audio(data,rate=sr)"
      ]
    },
    {
      "cell_type": "code",
      "execution_count": null,
      "metadata": {
        "id": "DNOKQRiqa5t7"
      },
      "outputs": [],
      "source": [
        "# CREATE LOG MEL SPECTROGRAM\n",
        "plt.figure(figsize=(10, 5))\n",
        "spectrogram = librosa.feature.melspectrogram(y=data, sr=sr, n_mels=128,fmax=8000)\n",
        "log_spectrogram = librosa.power_to_db(spectrogram)\n",
        "librosa.display.specshow(log_spectrogram, y_axis='mel', sr=sr, x_axis='time');\n",
        "plt.title('Mel Spectrogram ')\n",
        "plt.colorbar(format='%+2.0f dB')"
      ]
    },
    {
      "cell_type": "code",
      "execution_count": null,
      "metadata": {
        "id": "cY8CnMqga5t7"
      },
      "outputs": [],
      "source": [
        "mfcc = librosa.feature.mfcc(y=data, sr=sr, n_mfcc=30)\n",
        "\n",
        "\n",
        "# MFCC\n",
        "plt.figure(figsize=(16, 10))\n",
        "plt.subplot(3,1,1)\n",
        "librosa.display.specshow(mfcc, x_axis='time')\n",
        "plt.ylabel('MFCC')\n",
        "plt.colorbar()\n",
        "\n",
        "ipd.Audio(data,rate=sr)"
      ]
    },
    {
      "cell_type": "markdown",
      "metadata": {
        "id": "gbXg0mGLa5t7"
      },
      "source": [
        "# Data augmentation"
      ]
    },
    {
      "cell_type": "code",
      "execution_count": null,
      "metadata": {
        "id": "-lbp0HB3a5t7"
      },
      "outputs": [],
      "source": [
        "# NOISE\n",
        "def noise(data):\n",
        "    noise_amp = 0.035*np.random.uniform()*np.amax(data)\n",
        "    data = data + noise_amp*np.random.normal(size=data.shape[0])\n",
        "    return data\n",
        "\n",
        "# STRETCH\n",
        "def stretch(data, rate=0.8):\n",
        "    return librosa.effects.time_stretch(y=data, rate=rate)\n",
        "# SHIFT\n",
        "def shift(data):\n",
        "    shift_range = int(np.random.uniform(low=-5, high = 5)*1000)\n",
        "    return np.roll(data, shift_range)\n",
        "# PITCH\n",
        "def pitch(data, sampling_rate, pitch_factor=0.7):\n",
        "    return librosa.effects.pitch_shift(y=data, sr=sampling_rate, n_steps=pitch_factor)"
      ]
    },
    {
      "cell_type": "code",
      "execution_count": null,
      "metadata": {
        "id": "nEsADq_la5t7"
      },
      "outputs": [],
      "source": [
        "# NORMAL AUDIO\n",
        "\n",
        "\n",
        "import librosa.display\n",
        "plt.figure(figsize=(12, 5))\n",
        "librosa.display.waveshow(y=data, sr=sr)\n",
        "ipd.Audio(data,rate=sr)"
      ]
    },
    {
      "cell_type": "code",
      "execution_count": null,
      "metadata": {
        "id": "napmKqpWa5t7"
      },
      "outputs": [],
      "source": [
        "# AUDIO WITH NOISE\n",
        "x = noise(data)\n",
        "plt.figure(figsize=(12,5))\n",
        "librosa.display.waveshow(y=x, sr=sr)\n",
        "ipd.Audio(x, rate=sr)"
      ]
    },
    {
      "cell_type": "code",
      "execution_count": null,
      "metadata": {
        "id": "jULqVcnGa5t7"
      },
      "outputs": [],
      "source": [
        "# STRETCHED AUDIO\n",
        "x = stretch(data)\n",
        "plt.figure(figsize=(12, 5))\n",
        "librosa.display.waveshow(y=x, sr=sr)\n",
        "ipd.Audio(x, rate=sr)"
      ]
    },
    {
      "cell_type": "code",
      "execution_count": null,
      "metadata": {
        "id": "f6pEKIwUa5t7"
      },
      "outputs": [],
      "source": [
        "# SHIFTED AUDIO\n",
        "x = shift(data)\n",
        "plt.figure(figsize=(12,5))\n",
        "librosa.display.waveshow(y=x, sr=sr)\n",
        "ipd.Audio(x, rate=sr)"
      ]
    },
    {
      "cell_type": "code",
      "execution_count": null,
      "metadata": {
        "id": "olvrdFNra5t7"
      },
      "outputs": [],
      "source": [
        "# AUDIO WITH PITCH\n",
        "x = pitch(data, sr)\n",
        "plt.figure(figsize=(12, 5))\n",
        "librosa.display.waveshow(y=x, sr=sr)\n",
        "ipd.Audio(x, rate=sr)"
      ]
    },
    {
      "cell_type": "markdown",
      "metadata": {
        "id": "Ccx85DyHa5t7"
      },
      "source": [
        "# Feature extraction"
      ]
    },
    {
      "cell_type": "code",
      "execution_count": null,
      "metadata": {
        "id": "ioButzBna5t8"
      },
      "outputs": [],
      "source": [
        "# Visualize Spectral Centroid\n",
        "sc = librosa.feature.spectral_centroid(y=data, sr=sr, n_fft=2048, hop_length=512)\n",
        "sc = np.squeeze(sc)\n",
        "\n",
        "frames = range(len(data))\n",
        "t = librosa.frames_to_time(frames, hop_length=512)\n",
        "\n",
        "plt.figure(figsize=(10,5))\n",
        "\n",
        "plt.plot(t, data)\n",
        "plt.show()\n",
        "# x_axis: time\n",
        "# y_axis: SC"
      ]
    },
    {
      "cell_type": "code",
      "execution_count": null,
      "metadata": {
        "id": "jerrphlRa5t8"
      },
      "outputs": [],
      "source": [
        "def zcr(data,frame_length,hop_length):\n",
        "    zcr=librosa.feature.zero_crossing_rate(y=data,frame_length=frame_length,hop_length=hop_length)\n",
        "    return np.squeeze(zcr)\n",
        "def sc(data,frame_length=2048,hop_length=512):\n",
        "    sc = librosa.feature.spectral_centroid(y=data, sr=sr, n_fft=frame_length, hop_length=hop_length)\n",
        "    return np.squeeze(sc)\n",
        "def mfcc(data,sr,frame_length=2048,hop_length=512,flatten:bool=True):\n",
        "    mfcc=librosa.feature.mfcc(y=data,sr=sr)\n",
        "    return np.squeeze(mfcc.T)if not flatten else np.ravel(mfcc.T)\n",
        "\n",
        "def extract_features(data,sr=22050,frame_length=2048,hop_length=512):\n",
        "    result=np.array([])\n",
        "\n",
        "    result=np.hstack((result,\n",
        "                      zcr(data,frame_length,hop_length),\n",
        "                      sc(data,frame_length,hop_length),\n",
        "                      mfcc(data,sr,frame_length,hop_length)\n",
        "                     ))\n",
        "    return result\n",
        "\n",
        "def get_features(path,duration=2.5, offset=0.6):\n",
        "    data,sr=librosa.load(path,duration=duration,offset=offset)\n",
        "    aud=extract_features(data)\n",
        "    audio=np.array(aud)\n",
        "\n",
        "    noised_audio=noise(data)\n",
        "    aud2=extract_features(noised_audio)\n",
        "    audio=np.vstack((audio,aud2))\n",
        "\n",
        "    pitched_audio=pitch(data,sr)\n",
        "    aud3=extract_features(pitched_audio)\n",
        "    audio=np.vstack((audio,aud3))\n",
        "\n",
        "    pitched_audio1=pitch(data,sr)\n",
        "    pitched_noised_audio=noise(pitched_audio1)\n",
        "    aud4=extract_features(pitched_noised_audio)\n",
        "    audio=np.vstack((audio,aud4))\n",
        "\n",
        "    return audio\n"
      ]
    },
    {
      "cell_type": "code",
      "execution_count": null,
      "metadata": {
        "id": "RVS03iQQa5t8"
      },
      "outputs": [],
      "source": [
        "from joblib import Parallel, delayed\n",
        "import timeit\n",
        "start = timeit.default_timer()\n",
        "# Define a function to get features for a single audio file\n",
        "def process_feature(path, emotion):\n",
        "    features = get_features(path)\n",
        "    X = []\n",
        "    Y = []\n",
        "    for ele in features:\n",
        "        X.append(ele)\n",
        "        # appending emotion 3 times as we have made 3 augmentation techniques on each audio file.\n",
        "        Y.append(emotion)\n",
        "    return X, Y\n",
        "\n",
        "paths = data_path.Path\n",
        "emotions = data_path.Emotions\n",
        "\n",
        "# Run the loop in parallel\n",
        "results = Parallel(n_jobs=-1)(delayed(process_feature)(path, emotion) for (path, emotion) in zip(paths, emotions))\n",
        "\n",
        "# Collect the results\n",
        "X = []\n",
        "Y = []\n",
        "for result in results:\n",
        "    x, y = result\n",
        "    X.extend(x)\n",
        "    Y.extend(y)\n",
        "\n",
        "\n",
        "stop = timeit.default_timer()\n",
        "\n",
        "print('Time: ', stop - start)"
      ]
    },
    {
      "cell_type": "code",
      "execution_count": null,
      "metadata": {
        "id": "jFo-fAaqa5t8"
      },
      "outputs": [],
      "source": [
        "len(X), len(Y), data_path.Path.shape\n"
      ]
    },
    {
      "cell_type": "markdown",
      "metadata": {
        "id": "_6-Cmr2ea5t8"
      },
      "source": [
        "# Saving features"
      ]
    },
    {
      "cell_type": "code",
      "execution_count": null,
      "metadata": {
        "id": "ypYCu7hAa5t8"
      },
      "outputs": [],
      "source": [
        "Emotions = pd.DataFrame(X)\n",
        "Emotions['Emotions'] = Y\n",
        "Emotions.to_csv('emotion.csv', index=False)\n",
        "Emotions.head()"
      ]
    },
    {
      "cell_type": "code",
      "execution_count": null,
      "metadata": {
        "id": "qY9MmqqAa5t8"
      },
      "outputs": [],
      "source": [
        "Emotions = pd.read_csv('./emotion.csv')\n",
        "Emotions.head()"
      ]
    },
    {
      "cell_type": "code",
      "execution_count": null,
      "metadata": {
        "id": "Te1RyD6Ta5t8"
      },
      "outputs": [],
      "source": [
        "print(Emotions.isna().any())\n"
      ]
    },
    {
      "cell_type": "code",
      "execution_count": null,
      "metadata": {
        "id": "ycxdE3wOa5t_"
      },
      "outputs": [],
      "source": [
        "Emotions=Emotions.fillna(0)\n",
        "print(Emotions.isna().any())\n",
        "Emotions.shape"
      ]
    },
    {
      "cell_type": "code",
      "execution_count": null,
      "metadata": {
        "id": "bms-yD_ka5t_"
      },
      "outputs": [],
      "source": [
        "np.sum(Emotions.isna())"
      ]
    },
    {
      "cell_type": "markdown",
      "metadata": {
        "id": "znGVpiVPa5t_"
      },
      "source": [
        "# Data preparation"
      ]
    },
    {
      "cell_type": "code",
      "execution_count": null,
      "metadata": {
        "id": "ShXPdN9-a5t_"
      },
      "outputs": [],
      "source": [
        "#taking all rows and all cols without last col for X which include features\n",
        "#taking last col for Y, which include the emotions\n",
        "\n",
        "\n",
        "X = Emotions.iloc[: ,:-1].values\n",
        "Y = Emotions['Emotions'].values"
      ]
    },
    {
      "cell_type": "code",
      "execution_count": null,
      "metadata": {
        "id": "-vtr3Uhha5t_"
      },
      "outputs": [],
      "source": [
        "# As this is a multiclass classification problem onehotencoding our Y\n",
        "from sklearn.preprocessing import StandardScaler, OneHotEncoder\n",
        "encoder = OneHotEncoder()\n",
        "Y = encoder.fit_transform(np.array(Y).reshape(-1,1)).toarray()\n"
      ]
    },
    {
      "cell_type": "code",
      "execution_count": null,
      "metadata": {
        "id": "3zXJNF2Ca5t_"
      },
      "outputs": [],
      "source": [
        "print(Y.shape)\n",
        "X.shape"
      ]
    },
    {
      "cell_type": "code",
      "execution_count": null,
      "metadata": {
        "id": "EQWezKj7a5t_"
      },
      "outputs": [],
      "source": [
        "from sklearn.model_selection import train_test_split\n",
        "\n",
        "x_train, x_test, y_train, y_test = train_test_split(X, Y, random_state=42,test_size=0.2, shuffle=True)\n",
        "x_train.shape, y_train.shape, x_test.shape, y_test.shape"
      ]
    },
    {
      "cell_type": "code",
      "execution_count": null,
      "metadata": {
        "id": "hx_eQtDSa5t_"
      },
      "outputs": [],
      "source": [
        "#reshape for lstm\n",
        "X_train = x_train.reshape(x_train.shape[0] , x_train.shape[1] , 1)\n",
        "X_test = x_test.reshape(x_test.shape[0] , x_test.shape[1] , 1)"
      ]
    },
    {
      "cell_type": "code",
      "execution_count": null,
      "metadata": {
        "id": "MGGGEHCZa5t_"
      },
      "outputs": [],
      "source": [
        "# scaling our data with sklearn's Standard scaler\n",
        "scaler = StandardScaler()\n",
        "x_train = scaler.fit_transform(x_train)\n",
        "x_test = scaler.transform(x_test)\n",
        "x_train.shape, y_train.shape, x_test.shape, y_test.shape"
      ]
    },
    {
      "cell_type": "code",
      "execution_count": null,
      "metadata": {
        "id": "pqs-WFHka5t_"
      },
      "outputs": [],
      "source": [
        "import keras\n",
        "from keras.preprocessing import sequence\n",
        "from keras.models import Sequential\n",
        "from keras.layers import Dense, Embedding\n",
        "from keras.layers import LSTM,BatchNormalization , GRU\n",
        "from keras.preprocessing.text import Tokenizer\n",
        "from keras.preprocessing.sequence import pad_sequences\n",
        "from tensorflow.keras.utils import to_categorical\n",
        "from keras.layers import Input, Flatten, Dropout, Activation\n",
        "from keras.layers import Conv1D, MaxPooling1D, AveragePooling1D\n",
        "from keras.models import Model\n",
        "from keras.callbacks import ModelCheckpoint\n",
        "from tensorflow.keras.optimizers import SGD"
      ]
    },
    {
      "cell_type": "markdown",
      "metadata": {
        "id": "_4Fq4DUOa5t_"
      },
      "source": [
        "> Applying early stopping for all models\n"
      ]
    },
    {
      "cell_type": "code",
      "execution_count": null,
      "metadata": {
        "id": "2w76Gbsza5t_"
      },
      "outputs": [],
      "source": [
        "from keras.callbacks import ModelCheckpoint, EarlyStopping,ReduceLROnPlateau\n",
        "model_checkpoint = ModelCheckpoint('best_model1_weights.h5', monitor='val_accuracy', save_best_only=True)"
      ]
    },
    {
      "cell_type": "code",
      "execution_count": null,
      "metadata": {
        "id": "0poV2lIra5uA"
      },
      "outputs": [],
      "source": [
        "\n",
        "early_stop=EarlyStopping(monitor='val_accuracy',mode='auto',patience=10,restore_best_weights=True)\n",
        "lr_reduction=ReduceLROnPlateau(monitor='val_accuracy',patience=3,verbose=1,factor=0.5,min_lr=0.00001)"
      ]
    },
    {
      "cell_type": "markdown",
      "metadata": {
        "id": "2SKsxquEa5uA"
      },
      "source": [
        "# CNN model"
      ]
    },
    {
      "cell_type": "code",
      "execution_count": null,
      "metadata": {
        "id": "JuQP1R3Ha5uA"
      },
      "outputs": [],
      "source": [
        "#Reshape for CNN MODEL\n",
        "\n",
        "from sklearn.preprocessing import LabelEncoder\n",
        "from tensorflow.keras.utils import to_categorical\n",
        "\n",
        "x_traincnn =np.expand_dims(x_train, axis=2)\n",
        "x_testcnn= np.expand_dims(x_test, axis=2)\n",
        "x_traincnn.shape, y_train.shape, x_testcnn.shape, y_test.shape\n",
        "#x_testcnn[0]"
      ]
    },
    {
      "cell_type": "code",
      "execution_count": null,
      "metadata": {
        "id": "A-Q0CTToa5uA"
      },
      "outputs": [],
      "source": [
        "import tensorflow.keras.layers as L\n",
        "\n",
        "model = tf.keras.Sequential([\n",
        "    L.Conv1D(512,kernel_size=5, strides=1,padding='same', activation='relu',input_shape=(X_train.shape[1],1)),\n",
        "    L.BatchNormalization(),\n",
        "    L.MaxPool1D(pool_size=5,strides=2,padding='same'),\n",
        "\n",
        "    L.Conv1D(512,kernel_size=5,strides=1,padding='same',activation='relu'),\n",
        "    L.BatchNormalization(),\n",
        "    L.MaxPool1D(pool_size=5,strides=2,padding='same'),\n",
        "    Dropout(0.2),  # Add dropout layer after the second max pooling layer\n",
        "\n",
        "    L.Conv1D(256,kernel_size=5,strides=1,padding='same',activation='relu'),\n",
        "    L.BatchNormalization(),\n",
        "    L.MaxPool1D(pool_size=5,strides=2,padding='same'),\n",
        "\n",
        "    L.Conv1D(256,kernel_size=3,strides=1,padding='same',activation='relu'),\n",
        "    L.BatchNormalization(),\n",
        "    L.MaxPool1D(pool_size=5,strides=2,padding='same'),\n",
        "    Dropout(0.2),  # Add dropout layer after the fourth max pooling layer\n",
        "\n",
        "    L.Conv1D(128,kernel_size=3,strides=1,padding='same',activation='relu'),\n",
        "    L.BatchNormalization(),\n",
        "    L.MaxPool1D(pool_size=3,strides=2,padding='same'),\n",
        "    Dropout(0.2),  # Add dropout layer after the fifth max pooling layer\n",
        "\n",
        "    L.Flatten(),\n",
        "    L.Dense(512,activation='relu'),\n",
        "    L.BatchNormalization(),\n",
        "    L.Dense(7,activation='softmax')\n",
        "])\n",
        "model.compile(optimizer='adam',loss='categorical_crossentropy',metrics=['accuracy'])\n",
        "model.summary()"
      ]
    },
    {
      "cell_type": "code",
      "execution_count": null,
      "metadata": {
        "id": "lPTHc3e8a5uA"
      },
      "outputs": [],
      "source": [
        "history=model.fit(x_traincnn, y_train, epochs=40, validation_data=(x_testcnn, y_test), batch_size=64,callbacks=[early_stop,lr_reduction,model_checkpoint])"
      ]
    },
    {
      "cell_type": "code",
      "execution_count": null,
      "metadata": {
        "id": "Hqsq_Fr0a5uA"
      },
      "outputs": [],
      "source": [
        "\n",
        "\n",
        "print(\"Accuracy of our model on test data : \" , model.evaluate(x_testcnn,y_test)[1]*100 , \"%\")\n",
        "\n",
        "# epochs match the length of the history\n",
        "epochs = range(len(history.history['accuracy']))\n",
        "\n",
        "fig , ax = plt.subplots(1,2)\n",
        "train_acc = history.history['accuracy']\n",
        "train_loss = history.history['loss']\n",
        "test_acc = history.history['val_accuracy']\n",
        "test_loss = history.history['val_loss']\n",
        "\n",
        "fig.set_size_inches(20,6)\n",
        "ax[0].plot(epochs , train_loss , label = 'Training Loss')\n",
        "ax[0].plot(epochs , test_loss , label = 'Testing Loss')\n",
        "ax[0].set_title('Training & Testing Loss')\n",
        "ax[0].legend()\n",
        "ax[0].set_xlabel(\"Epochs\")\n",
        "\n",
        "ax[1].plot(epochs , train_acc , label = 'Training Accuracy')\n",
        "ax[1].plot(epochs , test_acc , label = 'Testing Accuracy')\n",
        "ax[1].set_title('Training & Testing Accuracy')\n",
        "ax[1].legend()\n",
        "ax[1].set_xlabel(\"Epochs\")\n",
        "plt.show()\n"
      ]
    },
    {
      "cell_type": "code",
      "execution_count": null,
      "metadata": {
        "id": "RXccd_fya5uA"
      },
      "outputs": [],
      "source": [
        "# predicting on test data.\n",
        "pred_test0 = model.predict(x_testcnn)\n",
        "y_pred0 = encoder.inverse_transform(pred_test0)\n",
        "y_test0 = encoder.inverse_transform(y_test)\n",
        "\n",
        "# Check for random predictions\n",
        "df0 = pd.DataFrame(columns=['Predicted Labels', 'Actual Labels'])\n",
        "df0['Predicted Labels'] = y_pred0.flatten()\n",
        "df0['Actual Labels'] = y_test0.flatten()\n",
        "\n",
        "df0.head(10)"
      ]
    },
    {
      "cell_type": "code",
      "execution_count": null,
      "metadata": {
        "id": "R3JJ5ADXa5uA"
      },
      "outputs": [],
      "source": [
        "df0"
      ]
    },
    {
      "cell_type": "markdown",
      "metadata": {
        "id": "QXtjZSIQa5uA"
      },
      "source": [
        "# Evalutation"
      ]
    },
    {
      "cell_type": "markdown",
      "metadata": {
        "id": "Wxu6ds-3a5uA"
      },
      "source": [
        "Results of best model"
      ]
    },
    {
      "cell_type": "code",
      "execution_count": null,
      "metadata": {
        "id": "h_BTZ7TQa5uA"
      },
      "outputs": [],
      "source": [
        "from sklearn.metrics import confusion_matrix,classification_report\n",
        "cm = confusion_matrix(y_test0, y_pred0)\n",
        "plt.figure(figsize = (12, 10))\n",
        "cm = pd.DataFrame(cm , index = [i for i in encoder.categories_] , columns = [i for i in encoder.categories_])\n",
        "#cm = cm.astype('float') / cm.sum(axis=1)[:, np.newaxis]\n",
        "sns.heatmap(cm, linecolor='white', cmap='Blues', linewidth=1, annot=True, fmt='.2f')\n",
        "plt.title('Confusion Matrix', size=20)\n",
        "plt.xlabel('Predicted Labels', size=14)\n",
        "plt.ylabel('Actual Labels', size=14)\n",
        "plt.show()\n",
        "print(classification_report(y_test0, y_pred0))"
      ]
    },
    {
      "cell_type": "markdown",
      "metadata": {
        "id": "IwUCn8Iya5uA"
      },
      "source": [
        "# Saving Best Model"
      ]
    },
    {
      "cell_type": "code",
      "execution_count": null,
      "metadata": {
        "id": "vXckmQMPa5uA"
      },
      "outputs": [],
      "source": [
        "# MLP for Pima Indians Dataset Serialize to JSON and HDF5\n",
        "from tensorflow.keras.models import Sequential, model_from_json\n",
        "model_json = model.to_json()\n",
        "with open(\"CNN_model.json\", \"w\") as json_file:\n",
        "    json_file.write(model_json)\n",
        "# serialize weights to HDF5\n",
        "model.save_weights(\"CNN_model_weights.h5\")\n",
        "print(\"Saved model to disk\")"
      ]
    },
    {
      "cell_type": "code",
      "execution_count": null,
      "metadata": {
        "id": "qRBMiOxta5uA"
      },
      "outputs": [],
      "source": [
        "from tensorflow.keras.models import Sequential, model_from_json\n",
        "json_file = open('/kaggle/working/CNN_model.json', 'r')\n",
        "loaded_model_json = json_file.read()\n",
        "json_file.close()\n",
        "loaded_model = model_from_json(loaded_model_json)\n",
        "# load weights into new model\n",
        "loaded_model.load_weights(\"/kaggle/working/best_model1_weights.h5\")\n",
        "print(\"Loaded model from disk\")"
      ]
    },
    {
      "cell_type": "code",
      "execution_count": null,
      "metadata": {
        "id": "igiAAxoda5uA"
      },
      "outputs": [],
      "source": [
        "loaded_model.compile(optimizer='adam', loss='categorical_crossentropy', metrics=['accuracy'])\n",
        "score = loaded_model.evaluate(x_testcnn,y_test)\n",
        "print(\"%s: %.2f%%\" % (loaded_model.metrics_names[1], score[1]*100))"
      ]
    },
    {
      "cell_type": "markdown",
      "metadata": {
        "id": "0uphNlKFa5uA"
      },
      "source": [
        "# Saving and Loading our Stnadrad Scaler and encoder\n",
        "* To save the StandardScaler object to use it later in a Flask API"
      ]
    },
    {
      "cell_type": "markdown",
      "metadata": {
        "id": "fyUS3abTa5uB"
      },
      "source": [
        "pickle file\n"
      ]
    },
    {
      "cell_type": "code",
      "execution_count": null,
      "metadata": {
        "id": "XWryMbj-a5uB"
      },
      "outputs": [],
      "source": [
        "import pickle\n",
        "\n",
        "# Saving scaler\n",
        "with open('scaler2.pickle', 'wb') as f:\n",
        "    pickle.dump(scaler, f)\n",
        "\n",
        "# Loading scaler\n",
        "with open('scaler2.pickle', 'rb') as f:\n",
        "    scaler2 = pickle.load(f)\n",
        "\n",
        "# Saving encoder\n",
        "with open('encoder2.pickle', 'wb') as f:\n",
        "    pickle.dump(encoder, f)\n",
        "\n",
        "# Loading encoder\n",
        "with open('encoder2.pickle', 'rb') as f:\n",
        "    encoder2 = pickle.load(f)\n",
        "\n",
        "\n",
        "print(\"Done\")"
      ]
    },
    {
      "cell_type": "markdown",
      "metadata": {
        "id": "LzwVZucAa5uB"
      },
      "source": [
        "# Test script\n",
        "* That can predict new record"
      ]
    },
    {
      "cell_type": "code",
      "execution_count": null,
      "metadata": {
        "id": "63YmId6ba5uB"
      },
      "outputs": [],
      "source": [
        "from tensorflow.keras.models import Sequential, model_from_json\n",
        "json_file = open('/kaggle/working/CNN_model.json', 'r')\n",
        "loaded_model_json = json_file.read()\n",
        "json_file.close()\n",
        "loaded_model = model_from_json(loaded_model_json)\n",
        "# load weights into new model\n",
        "loaded_model.load_weights(\"/kaggle/working/best_model1_weights.h5\")\n",
        "print(\"Loaded model from disk\")"
      ]
    },
    {
      "cell_type": "code",
      "execution_count": null,
      "metadata": {
        "id": "cDSsowuja5uB"
      },
      "outputs": [],
      "source": [
        "import pickle\n",
        "\n",
        "with open('/kaggle/working/scaler2.pickle', 'rb') as f:\n",
        "    scaler2 = pickle.load(f)\n",
        "\n",
        "with open('/kaggle/working/encoder2.pickle', 'rb') as f:\n",
        "    encoder2 = pickle.load(f)\n",
        "\n",
        "\n",
        "print(\"Done\")"
      ]
    },
    {
      "cell_type": "code",
      "execution_count": null,
      "metadata": {
        "id": "Uayzfhqja5uB"
      },
      "outputs": [],
      "source": [
        "import librosa"
      ]
    },
    {
      "cell_type": "code",
      "execution_count": null,
      "metadata": {
        "id": "6XgID1O2a5uB"
      },
      "outputs": [],
      "source": [
        "def zcr(data,frame_length,hop_length):\n",
        "    zcr=librosa.feature.zero_crossing_rate(data,frame_length=frame_length,hop_length=hop_length)\n",
        "    return np.squeeze(zcr)\n",
        "def sc(data,frame_length=2048,hop_length=512):\n",
        "    sc = librosa.feature.spectral_centroid(y=data, sr=sr, n_fft=frame_length, hop_length=hop_length)\n",
        "    return np.squeeze(sc)\n",
        "def mfcc(data,sr,frame_length=2048,hop_length=512,flatten:bool=True):\n",
        "    mfcc=librosa.feature.mfcc(data,sr=sr)\n",
        "    return np.squeeze(mfcc.T)if not flatten else np.ravel(mfcc.T)\n",
        "\n",
        "def extract_features(data,sr=22050,frame_length=2048,hop_length=512):\n",
        "    result=np.array([])\n",
        "\n",
        "    result=np.hstack((result,\n",
        "                      zcr(data,frame_length,hop_length),\n",
        "                      sc(data,frame_length,hop_length),\n",
        "                      mfcc(data,sr,frame_length,hop_length)\n",
        "                     ))\n",
        "    return result"
      ]
    },
    {
      "cell_type": "code",
      "execution_count": null,
      "metadata": {
        "id": "OYnKz4MEa5uB"
      },
      "outputs": [],
      "source": [
        "def get_predict_feat(path):\n",
        "    d, s_rate= librosa.load(path, duration=2.5, offset=0.6)\n",
        "    res=extract_features(d)\n",
        "    result=np.array(res)\n",
        "    result=np.reshape(result,newshape=(1,2376))\n",
        "    i_result = scaler2.transform(result)\n",
        "    final_result=np.expand_dims(i_result, axis=2)\n",
        "\n",
        "    return final_result"
      ]
    },
    {
      "cell_type": "code",
      "execution_count": null,
      "metadata": {
        "id": "uwNhKtVMa5uB"
      },
      "outputs": [],
      "source": [
        "res=get_predict_feat(\"/kaggle/input/ravdess-emotional-speech-audio/Actor_01/03-01-07-01-01-01-01.wav\")\n",
        "print(res.shape)"
      ]
    },
    {
      "cell_type": "code",
      "execution_count": null,
      "metadata": {
        "id": "-9tRWAnCa5uB"
      },
      "outputs": [],
      "source": [
        "emotions1={1:'Neutral', 2:'Calm', 3:'Happy', 4:'Sad', 5:'Angry', 6:'Fear', 7:'Disgust',8:'Surprise'}\n",
        "def prediction(path1):\n",
        "    res=get_predict_feat(path1)\n",
        "    predictions=loaded_model.predict(res)\n",
        "    y_pred = encoder2.inverse_transform(predictions)\n",
        "    print(y_pred[0][0])"
      ]
    },
    {
      "cell_type": "code",
      "execution_count": null,
      "metadata": {
        "id": "4LvnPwzwa5uB"
      },
      "outputs": [],
      "source": [
        "prediction(\"/kaggle/input/ravdess-emotional-speech-audio/Actor_02/03-01-01-01-01-01-02.wav\")"
      ]
    },
    {
      "cell_type": "code",
      "execution_count": null,
      "metadata": {
        "id": "MWXQqNrSa5uB"
      },
      "outputs": [],
      "source": [
        "prediction(\"/kaggle/input/ravdess-emotional-speech-audio/Actor_01/03-01-01-01-01-01-01.wav\")"
      ]
    },
    {
      "cell_type": "code",
      "execution_count": null,
      "metadata": {
        "id": "vIEttRm9a5uB"
      },
      "outputs": [],
      "source": [
        "prediction(\"/kaggle/input/ravdess-emotional-speech-audio/Actor_01/03-01-05-01-02-02-01.wav\")"
      ]
    },
    {
      "cell_type": "code",
      "execution_count": null,
      "metadata": {
        "id": "rsmGlQica5uB"
      },
      "outputs": [],
      "source": [
        "prediction(\"/kaggle/input/ravdess-emotional-speech-audio/Actor_21/03-01-04-02-02-02-21.wav\")"
      ]
    },
    {
      "cell_type": "code",
      "execution_count": null,
      "metadata": {
        "id": "nEv7UxBva5uB"
      },
      "outputs": [],
      "source": [
        "prediction(\"/kaggle/input/ravdess-emotional-speech-audio/Actor_02/03-01-06-01-02-02-02.wav\")"
      ]
    },
    {
      "cell_type": "code",
      "execution_count": null,
      "metadata": {
        "id": "i1LgfKJNa5uB"
      },
      "outputs": [],
      "source": [
        "prediction(\"/kaggle/input/ravdess-emotional-speech-audio/Actor_01/03-01-08-01-01-01-01.wav\")"
      ]
    },
    {
      "cell_type": "code",
      "execution_count": null,
      "metadata": {
        "id": "Csi_QrPja5uB"
      },
      "outputs": [],
      "source": [
        "prediction(\"/kaggle/input/ravdess-emotional-speech-audio/Actor_01/03-01-07-01-01-01-01.wav\")"
      ]
    },
    {
      "cell_type": "code",
      "execution_count": null,
      "metadata": {
        "id": "anSm2xSqa5uB"
      },
      "outputs": [],
      "source": [
        "prediction(\"/kaggle/input/recordedaudios/wav/F willy happy1.wav\")"
      ]
    },
    {
      "cell_type": "code",
      "execution_count": null,
      "metadata": {
        "id": "nxZl8RVJa5uB"
      },
      "outputs": [],
      "source": [
        "prediction(\"/kaggle/input/recordedaudios/wav/A charbel tannourt calm.wav\")"
      ]
    },
    {
      "cell_type": "code",
      "execution_count": null,
      "metadata": {
        "id": "GF5HX_9aa5uB"
      },
      "outputs": [],
      "source": [
        "prediction(\"/kaggle/input/recordedaudios/wav/A mariane happy.wav\")"
      ]
    },
    {
      "cell_type": "code",
      "execution_count": null,
      "metadata": {
        "id": "hc3kiNKma5uC"
      },
      "outputs": [],
      "source": [
        "prediction(\"/kaggle/input/recordedaudios/wav/E fearful vanessa hajj catherine.wav\")"
      ]
    },
    {
      "cell_type": "code",
      "execution_count": null,
      "metadata": {
        "id": "ReLlmh8ka5uC"
      },
      "outputs": [],
      "source": [
        "prediction(\"/kaggle/input/recordedaudios/wav/E neutral sabine mansour.wav\")"
      ]
    },
    {
      "cell_type": "code",
      "execution_count": null,
      "metadata": {
        "id": "cZzNQcPia5uC"
      },
      "outputs": [],
      "source": [
        "prediction(\"/kaggle/input/recordedaudios/wav/E willy angry.wav\")"
      ]
    },
    {
      "cell_type": "code",
      "execution_count": null,
      "metadata": {
        "id": "CccGlFRVa5uC"
      },
      "outputs": [],
      "source": [
        "prediction(\"/kaggle/input/recordedaudios/wav/E willy disgust.wav\")"
      ]
    },
    {
      "cell_type": "code",
      "execution_count": null,
      "metadata": {
        "id": "1dPvKhSxa5uC"
      },
      "outputs": [],
      "source": [
        "prediction(\"/kaggle/input/recordedaudios/wav/F mariane sad.wav\")"
      ]
    },
    {
      "cell_type": "code",
      "execution_count": null,
      "metadata": {
        "id": "FtLXbhcha5uC"
      },
      "outputs": [],
      "source": [
        "prediction(\"/kaggle/input/recordedaudios/wav/F ralph abou merhi sad.wav\")"
      ]
    },
    {
      "cell_type": "code",
      "execution_count": null,
      "metadata": {
        "id": "6dUQdBewa5uC"
      },
      "outputs": [],
      "source": [
        "prediction(\"/kaggle/input/recordedaudios/wav/E willy fearful.wav\")"
      ]
    },
    {
      "cell_type": "code",
      "execution_count": null,
      "metadata": {
        "id": "42zHB4dla5uC"
      },
      "outputs": [],
      "source": [
        "prediction(\"/kaggle/input/recordedaudios/wav/A sad rayyan.wav\")"
      ]
    },
    {
      "cell_type": "code",
      "execution_count": null,
      "metadata": {
        "id": "_CjTYKU0a5uC"
      },
      "outputs": [],
      "source": []
    }
  ],
  "metadata": {
    "colab": {
      "provenance": []
    },
    "kaggle": {
      "accelerator": "none",
      "dataSources": [
        {
          "datasetId": 107620,
          "sourceId": 256618,
          "sourceType": "datasetVersion"
        },
        {
          "datasetId": 316368,
          "sourceId": 639622,
          "sourceType": "datasetVersion"
        },
        {
          "datasetId": 325566,
          "sourceId": 653195,
          "sourceType": "datasetVersion"
        },
        {
          "datasetId": 338555,
          "sourceId": 671851,
          "sourceType": "datasetVersion"
        },
        {
          "datasetId": 3468263,
          "sourceId": 6060815,
          "sourceType": "datasetVersion"
        },
        {
          "datasetId": 5226079,
          "sourceId": 8711545,
          "sourceType": "datasetVersion"
        }
      ],
      "dockerImageVersionId": 30380,
      "isGpuEnabled": false,
      "isInternetEnabled": true,
      "language": "python",
      "sourceType": "notebook"
    },
    "kernelspec": {
      "display_name": "Python 3",
      "language": "python",
      "name": "python3"
    },
    "language_info": {
      "codemirror_mode": {
        "name": "ipython",
        "version": 3
      },
      "file_extension": ".py",
      "mimetype": "text/x-python",
      "name": "python",
      "nbconvert_exporter": "python",
      "pygments_lexer": "ipython3",
      "version": "3.7.12"
    }
  },
  "nbformat": 4,
  "nbformat_minor": 0
}